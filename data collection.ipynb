{
 "cells": [
  {
   "cell_type": "code",
   "execution_count": 1,
   "metadata": {},
   "outputs": [],
   "source": [
    "import os\n",
    "import cv2\n",
    "import uuid\n",
    "import time"
   ]
  },
  {
   "cell_type": "code",
   "execution_count": 8,
   "metadata": {},
   "outputs": [
    {
     "name": "stdout",
     "output_type": "stream",
     "text": [
      "collection images forno_hats\n"
     ]
    }
   ],
   "source": [
    "#create directories for hats and no hat\n",
    " # path  \"C:\\Users\\mayok\\OneDrive\\Desktop\\AI 2000 hat detection\\data collection.ipynb\"\n",
    "\n",
    "PATH_IMAGES =(\"/Users/mayok/OneDrive/Desktop/AI 2000 hat detection/hat_dection\")\n",
    "if not os.path.exists(PATH_IMAGES):\n",
    "    os.mkdir(PATH_IMAGES)\n",
    "\n",
    "#call the webcam on laptop\n",
    "cap = cv2.VideoCapture(0)\n",
    "\n",
    "label = 'no_hats' # change label to hats or no_hats\n",
    "\n",
    "number_images = 100\n",
    "print('collection images for{}'.format(label))\n",
    "time.sleep(5)\n",
    "\n",
    "for imgnum in range(number_images):\n",
    "    ret,frame =cap.read()\n",
    "    imagename = os.path.join(PATH_IMAGES, label, label + '.'+ '{}.jpg'.format(str(uuid.uuid1())))\n",
    "    cv2.imwrite(imagename, frame)\n",
    "    cv2.imshow('frame',frame)\n",
    "    time.sleep(2)\n",
    "\n",
    "    if cv2.waitKey(1) & 0xFF ==ord('q'):\n",
    "        break\n",
    "cap.release()\n",
    "cv2.destroyAllWindows()\n",
    "\n",
    "\n"
   ]
  },
  {
   "cell_type": "code",
   "execution_count": null,
   "metadata": {},
   "outputs": [],
   "source": []
  }
 ],
 "metadata": {
  "kernelspec": {
   "display_name": "base",
   "language": "python",
   "name": "python3"
  },
  "language_info": {
   "codemirror_mode": {
    "name": "ipython",
    "version": 3
   },
   "file_extension": ".py",
   "mimetype": "text/x-python",
   "name": "python",
   "nbconvert_exporter": "python",
   "pygments_lexer": "ipython3",
   "version": "3.9.19"
  }
 },
 "nbformat": 4,
 "nbformat_minor": 2
}
